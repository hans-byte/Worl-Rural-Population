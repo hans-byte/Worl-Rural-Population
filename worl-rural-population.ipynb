{
 "cells": [
  {
   "cell_type": "code",
   "execution_count": 1,
   "id": "c40ed230",
   "metadata": {
    "_cell_guid": "b1076dfc-b9ad-4769-8c92-a6c4dae69d19",
    "_uuid": "8f2839f25d086af736a60e9eeb907d3b93b6e0e5",
    "execution": {
     "iopub.execute_input": "2022-06-10T15:15:38.406114Z",
     "iopub.status.busy": "2022-06-10T15:15:38.405519Z",
     "iopub.status.idle": "2022-06-10T15:15:39.661156Z",
     "shell.execute_reply": "2022-06-10T15:15:39.659969Z"
    },
    "papermill": {
     "duration": 1.272595,
     "end_time": "2022-06-10T15:15:39.663979",
     "exception": false,
     "start_time": "2022-06-10T15:15:38.391384",
     "status": "completed"
    },
    "tags": []
   },
   "outputs": [
    {
     "name": "stdout",
     "output_type": "stream",
     "text": [
      "/kaggle/input/world-rural-population/world-rural-population-v1.csv\n"
     ]
    }
   ],
   "source": [
    "import numpy as np # linear algebra\n",
    "import pandas as pd # data processing, CSV file I/O (e.g. pd.read_csv)\n",
    "import os\n",
    "for dirname, _, filenames in os.walk('/kaggle/input'):\n",
    "    for filename in filenames:\n",
    "        print(os.path.join(dirname, filename))\n",
    "import seaborn as sns"
   ]
  },
  {
   "cell_type": "code",
   "execution_count": 2,
   "id": "403ca33c",
   "metadata": {
    "execution": {
     "iopub.execute_input": "2022-06-10T15:15:39.689946Z",
     "iopub.status.busy": "2022-06-10T15:15:39.688901Z",
     "iopub.status.idle": "2022-06-10T15:15:39.713866Z",
     "shell.execute_reply": "2022-06-10T15:15:39.713003Z"
    },
    "papermill": {
     "duration": 0.041282,
     "end_time": "2022-06-10T15:15:39.716933",
     "exception": false,
     "start_time": "2022-06-10T15:15:39.675651",
     "status": "completed"
    },
    "tags": []
   },
   "outputs": [],
   "source": [
    "df = pd.read_csv('../input/world-rural-population/world-rural-population-v1.csv')"
   ]
  },
  {
   "cell_type": "markdown",
   "id": "d12c6a10",
   "metadata": {
    "papermill": {
     "duration": 0.011901,
     "end_time": "2022-06-10T15:15:39.740866",
     "exception": false,
     "start_time": "2022-06-10T15:15:39.728965",
     "status": "completed"
    },
    "tags": []
   },
   "source": [
    "Now, let's see how the dataset looks like:"
   ]
  },
  {
   "cell_type": "code",
   "execution_count": 3,
   "id": "d44dd2e4",
   "metadata": {
    "execution": {
     "iopub.execute_input": "2022-06-10T15:15:39.766444Z",
     "iopub.status.busy": "2022-06-10T15:15:39.765505Z",
     "iopub.status.idle": "2022-06-10T15:15:39.814901Z",
     "shell.execute_reply": "2022-06-10T15:15:39.813858Z"
    },
    "papermill": {
     "duration": 0.065106,
     "end_time": "2022-06-10T15:15:39.817112",
     "exception": false,
     "start_time": "2022-06-10T15:15:39.752006",
     "status": "completed"
    },
    "tags": []
   },
   "outputs": [
    {
     "data": {
      "text/html": [
       "<div>\n",
       "<style scoped>\n",
       "    .dataframe tbody tr th:only-of-type {\n",
       "        vertical-align: middle;\n",
       "    }\n",
       "\n",
       "    .dataframe tbody tr th {\n",
       "        vertical-align: top;\n",
       "    }\n",
       "\n",
       "    .dataframe thead th {\n",
       "        text-align: right;\n",
       "    }\n",
       "</style>\n",
       "<table border=\"1\" class=\"dataframe\">\n",
       "  <thead>\n",
       "    <tr style=\"text-align: right;\">\n",
       "      <th></th>\n",
       "      <th>Country Name</th>\n",
       "      <th>Country Code</th>\n",
       "      <th>1960</th>\n",
       "      <th>1961</th>\n",
       "      <th>1962</th>\n",
       "      <th>1963</th>\n",
       "      <th>1964</th>\n",
       "      <th>1965</th>\n",
       "      <th>1966</th>\n",
       "      <th>1967</th>\n",
       "      <th>...</th>\n",
       "      <th>2011</th>\n",
       "      <th>2012</th>\n",
       "      <th>2013</th>\n",
       "      <th>2014</th>\n",
       "      <th>2015</th>\n",
       "      <th>2016</th>\n",
       "      <th>2017</th>\n",
       "      <th>2018</th>\n",
       "      <th>2019</th>\n",
       "      <th>2020</th>\n",
       "    </tr>\n",
       "  </thead>\n",
       "  <tbody>\n",
       "    <tr>\n",
       "      <th>0</th>\n",
       "      <td>Aruba</td>\n",
       "      <td>ABW</td>\n",
       "      <td>26683.0</td>\n",
       "      <td>27295.0</td>\n",
       "      <td>27697.0</td>\n",
       "      <td>27936.0</td>\n",
       "      <td>28107.0</td>\n",
       "      <td>28277.0</td>\n",
       "      <td>28456.0</td>\n",
       "      <td>28633.0</td>\n",
       "      <td>...</td>\n",
       "      <td>58230.0</td>\n",
       "      <td>58506.0</td>\n",
       "      <td>58814.0</td>\n",
       "      <td>59110.0</td>\n",
       "      <td>59361.0</td>\n",
       "      <td>59572.0</td>\n",
       "      <td>59747.0</td>\n",
       "      <td>59897.0</td>\n",
       "      <td>60016.0</td>\n",
       "      <td>60112.0</td>\n",
       "    </tr>\n",
       "    <tr>\n",
       "      <th>1</th>\n",
       "      <td>Africa Eastern and Southern</td>\n",
       "      <td>AFE</td>\n",
       "      <td>111597625.0</td>\n",
       "      <td>114110332.0</td>\n",
       "      <td>116717022.0</td>\n",
       "      <td>119394205.0</td>\n",
       "      <td>122140071.0</td>\n",
       "      <td>124963818.0</td>\n",
       "      <td>127863551.0</td>\n",
       "      <td>130848646.0</td>\n",
       "      <td>...</td>\n",
       "      <td>358859175.0</td>\n",
       "      <td>366421044.0</td>\n",
       "      <td>374087585.0</td>\n",
       "      <td>381804769.0</td>\n",
       "      <td>389549737.0</td>\n",
       "      <td>397309170.0</td>\n",
       "      <td>405073414.0</td>\n",
       "      <td>412813896.0</td>\n",
       "      <td>420506755.0</td>\n",
       "      <td>428130824.0</td>\n",
       "    </tr>\n",
       "    <tr>\n",
       "      <th>2</th>\n",
       "      <td>Afghanistan</td>\n",
       "      <td>AFG</td>\n",
       "      <td>8241132.0</td>\n",
       "      <td>8373135.0</td>\n",
       "      <td>8512057.0</td>\n",
       "      <td>8657973.0</td>\n",
       "      <td>8810638.0</td>\n",
       "      <td>8970244.0</td>\n",
       "      <td>9133649.0</td>\n",
       "      <td>9300663.0</td>\n",
       "      <td>...</td>\n",
       "      <td>22904893.0</td>\n",
       "      <td>23632789.0</td>\n",
       "      <td>24404524.0</td>\n",
       "      <td>25165924.0</td>\n",
       "      <td>25877997.0</td>\n",
       "      <td>26530194.0</td>\n",
       "      <td>27131343.0</td>\n",
       "      <td>27694940.0</td>\n",
       "      <td>28244483.0</td>\n",
       "      <td>28796851.0</td>\n",
       "    </tr>\n",
       "    <tr>\n",
       "      <th>3</th>\n",
       "      <td>Africa Western and Central</td>\n",
       "      <td>AFW</td>\n",
       "      <td>82254748.0</td>\n",
       "      <td>83593412.0</td>\n",
       "      <td>84979354.0</td>\n",
       "      <td>86400362.0</td>\n",
       "      <td>87851320.0</td>\n",
       "      <td>89328091.0</td>\n",
       "      <td>90869502.0</td>\n",
       "      <td>92443341.0</td>\n",
       "      <td>...</td>\n",
       "      <td>208012011.0</td>\n",
       "      <td>211404928.0</td>\n",
       "      <td>214830600.0</td>\n",
       "      <td>218280270.0</td>\n",
       "      <td>221750635.0</td>\n",
       "      <td>225245547.0</td>\n",
       "      <td>228753833.0</td>\n",
       "      <td>232268264.0</td>\n",
       "      <td>235777809.0</td>\n",
       "      <td>239272321.0</td>\n",
       "    </tr>\n",
       "    <tr>\n",
       "      <th>4</th>\n",
       "      <td>Angola</td>\n",
       "      <td>AGO</td>\n",
       "      <td>4885715.0</td>\n",
       "      <td>4934165.0</td>\n",
       "      <td>4980123.0</td>\n",
       "      <td>5019234.0</td>\n",
       "      <td>5043469.0</td>\n",
       "      <td>5049021.0</td>\n",
       "      <td>5031759.0</td>\n",
       "      <td>4998298.0</td>\n",
       "      <td>...</td>\n",
       "      <td>9560379.0</td>\n",
       "      <td>9724802.0</td>\n",
       "      <td>9885478.0</td>\n",
       "      <td>10040929.0</td>\n",
       "      <td>10192856.0</td>\n",
       "      <td>10340318.0</td>\n",
       "      <td>10483874.0</td>\n",
       "      <td>10625063.0</td>\n",
       "      <td>10764271.0</td>\n",
       "      <td>10903384.0</td>\n",
       "    </tr>\n",
       "  </tbody>\n",
       "</table>\n",
       "<p>5 rows × 63 columns</p>\n",
       "</div>"
      ],
      "text/plain": [
       "                  Country Name Country Code         1960         1961  \\\n",
       "0                        Aruba          ABW      26683.0      27295.0   \n",
       "1  Africa Eastern and Southern          AFE  111597625.0  114110332.0   \n",
       "2                  Afghanistan          AFG    8241132.0    8373135.0   \n",
       "3   Africa Western and Central          AFW   82254748.0   83593412.0   \n",
       "4                       Angola          AGO    4885715.0    4934165.0   \n",
       "\n",
       "          1962         1963         1964         1965         1966  \\\n",
       "0      27697.0      27936.0      28107.0      28277.0      28456.0   \n",
       "1  116717022.0  119394205.0  122140071.0  124963818.0  127863551.0   \n",
       "2    8512057.0    8657973.0    8810638.0    8970244.0    9133649.0   \n",
       "3   84979354.0   86400362.0   87851320.0   89328091.0   90869502.0   \n",
       "4    4980123.0    5019234.0    5043469.0    5049021.0    5031759.0   \n",
       "\n",
       "          1967  ...         2011         2012         2013         2014  \\\n",
       "0      28633.0  ...      58230.0      58506.0      58814.0      59110.0   \n",
       "1  130848646.0  ...  358859175.0  366421044.0  374087585.0  381804769.0   \n",
       "2    9300663.0  ...   22904893.0   23632789.0   24404524.0   25165924.0   \n",
       "3   92443341.0  ...  208012011.0  211404928.0  214830600.0  218280270.0   \n",
       "4    4998298.0  ...    9560379.0    9724802.0    9885478.0   10040929.0   \n",
       "\n",
       "          2015         2016         2017         2018         2019  \\\n",
       "0      59361.0      59572.0      59747.0      59897.0      60016.0   \n",
       "1  389549737.0  397309170.0  405073414.0  412813896.0  420506755.0   \n",
       "2   25877997.0   26530194.0   27131343.0   27694940.0   28244483.0   \n",
       "3  221750635.0  225245547.0  228753833.0  232268264.0  235777809.0   \n",
       "4   10192856.0   10340318.0   10483874.0   10625063.0   10764271.0   \n",
       "\n",
       "          2020  \n",
       "0      60112.0  \n",
       "1  428130824.0  \n",
       "2   28796851.0  \n",
       "3  239272321.0  \n",
       "4   10903384.0  \n",
       "\n",
       "[5 rows x 63 columns]"
      ]
     },
     "execution_count": 3,
     "metadata": {},
     "output_type": "execute_result"
    }
   ],
   "source": [
    "df.head()"
   ]
  },
  {
   "cell_type": "markdown",
   "id": "b0c2cc11",
   "metadata": {
    "papermill": {
     "duration": 0.011526,
     "end_time": "2022-06-10T15:15:39.840134",
     "exception": false,
     "start_time": "2022-06-10T15:15:39.828608",
     "status": "completed"
    },
    "tags": []
   },
   "source": [
    "Let´s see if there is any null numbers across the data"
   ]
  },
  {
   "cell_type": "code",
   "execution_count": 4,
   "id": "35622de1",
   "metadata": {
    "execution": {
     "iopub.execute_input": "2022-06-10T15:15:39.866860Z",
     "iopub.status.busy": "2022-06-10T15:15:39.866397Z",
     "iopub.status.idle": "2022-06-10T15:15:41.552195Z",
     "shell.execute_reply": "2022-06-10T15:15:41.551297Z"
    },
    "papermill": {
     "duration": 1.702509,
     "end_time": "2022-06-10T15:15:41.554563",
     "exception": false,
     "start_time": "2022-06-10T15:15:39.852054",
     "status": "completed"
    },
    "tags": []
   },
   "outputs": [
    {
     "data": {
      "text/plain": [
       "<AxesSubplot:>"
      ]
     },
     "execution_count": 4,
     "metadata": {},
     "output_type": "execute_result"
    },
    {
     "data": {
      "image/png": "[encoded data removed]",
      "text/plain": [
       "<Figure size 1440x432 with 1 Axes>"
      ]
     },
     "metadata": {},
     "output_type": "display_data"
    }
   ],
   "source": [
    "sns.set(rc={'figure.figsize':(20,6)})\n",
    "sns.heatmap(df.iloc[:,2:].isnull(),yticklabels=False,cbar=False,cmap='viridis')"
   ]
  },
  {
   "cell_type": "markdown",
   "id": "0bc8d115",
   "metadata": {
    "papermill": {
     "duration": 0.011388,
     "end_time": "2022-06-10T15:15:41.577586",
     "exception": false,
     "start_time": "2022-06-10T15:15:41.566198",
     "status": "completed"
    },
    "tags": []
   },
   "source": [
    "As we can see here, there are 4 countries which have null values across the dataset. Let's take a look:"
   ]
  },
  {
   "cell_type": "code",
   "execution_count": 5,
   "id": "25008084",
   "metadata": {
    "execution": {
     "iopub.execute_input": "2022-06-10T15:15:41.602455Z",
     "iopub.status.busy": "2022-06-10T15:15:41.602055Z",
     "iopub.status.idle": "2022-06-10T15:15:41.622182Z",
     "shell.execute_reply": "2022-06-10T15:15:41.621303Z"
    },
    "papermill": {
     "duration": 0.035223,
     "end_time": "2022-06-10T15:15:41.624255",
     "exception": false,
     "start_time": "2022-06-10T15:15:41.589032",
     "status": "completed"
    },
    "tags": []
   },
   "outputs": [
    {
     "data": {
      "text/plain": [
       "261    61\n",
       "147    61\n",
       "110    61\n",
       "196    30\n",
       "69      9\n",
       "127     3\n",
       "176     0\n",
       "180     0\n",
       "179     0\n",
       "178     0\n",
       "dtype: int64"
      ]
     },
     "execution_count": 5,
     "metadata": {},
     "output_type": "execute_result"
    }
   ],
   "source": [
    "df.transpose().isnull().sum().sort_values(ascending = False).head(10)"
   ]
  },
  {
   "cell_type": "markdown",
   "id": "4684a5b9",
   "metadata": {
    "papermill": {
     "duration": 0.012388,
     "end_time": "2022-06-10T15:15:41.648687",
     "exception": false,
     "start_time": "2022-06-10T15:15:41.636299",
     "status": "completed"
    },
    "tags": []
   },
   "source": [
    "So now we can see the indexes of the countries that have any null values. Based on that we have 60 years of data, we will drop the first four countries because we do not much data. Let's see who they are"
   ]
  },
  {
   "cell_type": "code",
   "execution_count": 6,
   "id": "015bb186",
   "metadata": {
    "execution": {
     "iopub.execute_input": "2022-06-10T15:15:41.675160Z",
     "iopub.status.busy": "2022-06-10T15:15:41.674436Z",
     "iopub.status.idle": "2022-06-10T15:15:41.685923Z",
     "shell.execute_reply": "2022-06-10T15:15:41.685051Z"
    },
    "papermill": {
     "duration": 0.02707,
     "end_time": "2022-06-10T15:15:41.687856",
     "exception": false,
     "start_time": "2022-06-10T15:15:41.660786",
     "status": "completed"
    },
    "tags": []
   },
   "outputs": [
    {
     "data": {
      "text/plain": [
       "261                      Kosovo\n",
       "147    St. Martin (French part)\n",
       "110              Not classified\n",
       "196          West Bank and Gaza\n",
       "Name: Country Name, dtype: object"
      ]
     },
     "execution_count": 6,
     "metadata": {},
     "output_type": "execute_result"
    }
   ],
   "source": [
    "df.iloc[[261,147,110, 196]]['Country Name']"
   ]
  },
  {
   "cell_type": "markdown",
   "id": "c0c2ca3a",
   "metadata": {
    "papermill": {
     "duration": 0.011975,
     "end_time": "2022-06-10T15:15:41.712358",
     "exception": false,
     "start_time": "2022-06-10T15:15:41.700383",
     "status": "completed"
    },
    "tags": []
   },
   "source": [
    "Now, let´s see which are the countries who have 9 and 3 null data"
   ]
  },
  {
   "cell_type": "code",
   "execution_count": 7,
   "id": "cd5abdc2",
   "metadata": {
    "execution": {
     "iopub.execute_input": "2022-06-10T15:15:41.739015Z",
     "iopub.status.busy": "2022-06-10T15:15:41.738081Z",
     "iopub.status.idle": "2022-06-10T15:15:41.746841Z",
     "shell.execute_reply": "2022-06-10T15:15:41.745893Z"
    },
    "papermill": {
     "duration": 0.023906,
     "end_time": "2022-06-10T15:15:41.748810",
     "exception": false,
     "start_time": "2022-06-10T15:15:41.724904",
     "status": "completed"
    },
    "tags": []
   },
   "outputs": [
    {
     "data": {
      "text/plain": [
       "69     Eritrea\n",
       "127     Kuwait\n",
       "Name: Country Name, dtype: object"
      ]
     },
     "execution_count": 7,
     "metadata": {},
     "output_type": "execute_result"
    }
   ],
   "source": [
    "df.iloc[[69,127]]['Country Name']"
   ]
  },
  {
   "cell_type": "markdown",
   "id": "41497c35",
   "metadata": {
    "papermill": {
     "duration": 0.011676,
     "end_time": "2022-06-10T15:15:41.772803",
     "exception": false,
     "start_time": "2022-06-10T15:15:41.761127",
     "status": "completed"
    },
    "tags": []
   },
   "source": [
    "Now, we will set the Country Name as index"
   ]
  },
  {
   "cell_type": "markdown",
   "id": "4c3dcca4",
   "metadata": {
    "papermill": {
     "duration": 0.011629,
     "end_time": "2022-06-10T15:15:41.796469",
     "exception": false,
     "start_time": "2022-06-10T15:15:41.784840",
     "status": "completed"
    },
    "tags": []
   },
   "source": [
    "Continuing with the analysis of Eritrea and Kuwait, we can realise that they have 0 values across the dataset."
   ]
  },
  {
   "cell_type": "code",
   "execution_count": 8,
   "id": "06ea6943",
   "metadata": {
    "execution": {
     "iopub.execute_input": "2022-06-10T15:15:41.824504Z",
     "iopub.status.busy": "2022-06-10T15:15:41.823764Z",
     "iopub.status.idle": "2022-06-10T15:15:41.851659Z",
     "shell.execute_reply": "2022-06-10T15:15:41.850735Z"
    },
    "papermill": {
     "duration": 0.044833,
     "end_time": "2022-06-10T15:15:41.853908",
     "exception": false,
     "start_time": "2022-06-10T15:15:41.809075",
     "status": "completed"
    },
    "tags": []
   },
   "outputs": [
    {
     "data": {
      "text/html": [
       "<div>\n",
       "<style scoped>\n",
       "    .dataframe tbody tr th:only-of-type {\n",
       "        vertical-align: middle;\n",
       "    }\n",
       "\n",
       "    .dataframe tbody tr th {\n",
       "        vertical-align: top;\n",
       "    }\n",
       "\n",
       "    .dataframe thead th {\n",
       "        text-align: right;\n",
       "    }\n",
       "</style>\n",
       "<table border=\"1\" class=\"dataframe\">\n",
       "  <thead>\n",
       "    <tr style=\"text-align: right;\">\n",
       "      <th></th>\n",
       "      <th>Country Name</th>\n",
       "      <th>Country Code</th>\n",
       "      <th>1960</th>\n",
       "      <th>1961</th>\n",
       "      <th>1962</th>\n",
       "      <th>1963</th>\n",
       "      <th>1964</th>\n",
       "      <th>1965</th>\n",
       "      <th>1966</th>\n",
       "      <th>1967</th>\n",
       "      <th>...</th>\n",
       "      <th>2011</th>\n",
       "      <th>2012</th>\n",
       "      <th>2013</th>\n",
       "      <th>2014</th>\n",
       "      <th>2015</th>\n",
       "      <th>2016</th>\n",
       "      <th>2017</th>\n",
       "      <th>2018</th>\n",
       "      <th>2019</th>\n",
       "      <th>2020</th>\n",
       "    </tr>\n",
       "  </thead>\n",
       "  <tbody>\n",
       "    <tr>\n",
       "      <th>69</th>\n",
       "      <td>Eritrea</td>\n",
       "      <td>ERI</td>\n",
       "      <td>908853.0</td>\n",
       "      <td>928810.0</td>\n",
       "      <td>949795.0</td>\n",
       "      <td>971567.0</td>\n",
       "      <td>993869.0</td>\n",
       "      <td>1016537.0</td>\n",
       "      <td>1039438.0</td>\n",
       "      <td>1062647.0</td>\n",
       "      <td>...</td>\n",
       "      <td>2064300.0</td>\n",
       "      <td>NaN</td>\n",
       "      <td>NaN</td>\n",
       "      <td>NaN</td>\n",
       "      <td>NaN</td>\n",
       "      <td>NaN</td>\n",
       "      <td>NaN</td>\n",
       "      <td>NaN</td>\n",
       "      <td>NaN</td>\n",
       "      <td>NaN</td>\n",
       "    </tr>\n",
       "    <tr>\n",
       "      <th>127</th>\n",
       "      <td>Kuwait</td>\n",
       "      <td>KWT</td>\n",
       "      <td>67544.0</td>\n",
       "      <td>72780.0</td>\n",
       "      <td>78737.0</td>\n",
       "      <td>85178.0</td>\n",
       "      <td>91813.0</td>\n",
       "      <td>97838.0</td>\n",
       "      <td>100888.0</td>\n",
       "      <td>103422.0</td>\n",
       "      <td>...</td>\n",
       "      <td>0.0</td>\n",
       "      <td>0.0</td>\n",
       "      <td>0.0</td>\n",
       "      <td>0.0</td>\n",
       "      <td>0.0</td>\n",
       "      <td>0.0</td>\n",
       "      <td>0.0</td>\n",
       "      <td>0.0</td>\n",
       "      <td>0.0</td>\n",
       "      <td>0.0</td>\n",
       "    </tr>\n",
       "  </tbody>\n",
       "</table>\n",
       "<p>2 rows × 63 columns</p>\n",
       "</div>"
      ],
      "text/plain": [
       "    Country Name Country Code      1960      1961      1962      1963  \\\n",
       "69       Eritrea          ERI  908853.0  928810.0  949795.0  971567.0   \n",
       "127       Kuwait          KWT   67544.0   72780.0   78737.0   85178.0   \n",
       "\n",
       "         1964       1965       1966       1967  ...       2011  2012  2013  \\\n",
       "69   993869.0  1016537.0  1039438.0  1062647.0  ...  2064300.0   NaN   NaN   \n",
       "127   91813.0    97838.0   100888.0   103422.0  ...        0.0   0.0   0.0   \n",
       "\n",
       "     2014  2015  2016  2017  2018  2019  2020  \n",
       "69    NaN   NaN   NaN   NaN   NaN   NaN   NaN  \n",
       "127   0.0   0.0   0.0   0.0   0.0   0.0   0.0  \n",
       "\n",
       "[2 rows x 63 columns]"
      ]
     },
     "execution_count": 8,
     "metadata": {},
     "output_type": "execute_result"
    }
   ],
   "source": [
    "df.iloc[[69,127]]"
   ]
  },
  {
   "cell_type": "markdown",
   "id": "f2723fd0",
   "metadata": {
    "papermill": {
     "duration": 0.012915,
     "end_time": "2022-06-10T15:15:41.879673",
     "exception": false,
     "start_time": "2022-06-10T15:15:41.866758",
     "status": "completed"
    },
    "tags": []
   },
   "source": [
    "Let´s check if there are other countries which values are equals to 0:"
   ]
  },
  {
   "cell_type": "code",
   "execution_count": 9,
   "id": "e2ad47c0",
   "metadata": {
    "execution": {
     "iopub.execute_input": "2022-06-10T15:15:41.907866Z",
     "iopub.status.busy": "2022-06-10T15:15:41.907142Z",
     "iopub.status.idle": "2022-06-10T15:15:43.519850Z",
     "shell.execute_reply": "2022-06-10T15:15:43.517969Z"
    },
    "papermill": {
     "duration": 1.628289,
     "end_time": "2022-06-10T15:15:43.521804",
     "exception": false,
     "start_time": "2022-06-10T15:15:41.893515",
     "status": "completed"
    },
    "tags": []
   },
   "outputs": [
    {
     "data": {
      "text/plain": [
       "<AxesSubplot:>"
      ]
     },
     "execution_count": 9,
     "metadata": {},
     "output_type": "execute_result"
    },
    {
     "data": {
      "image/png": "[encoded data removed]",
      "text/plain": [
       "<Figure size 1440x432 with 1 Axes>"
      ]
     },
     "metadata": {},
     "output_type": "display_data"
    }
   ],
   "source": [
    "sns.set(rc={'figure.figsize':(20,6)})\n",
    "sns.heatmap(df.iloc[:,2:] == 0,yticklabels=False,cbar=False,cmap='viridis')"
   ]
  },
  {
   "cell_type": "markdown",
   "id": "f8146141",
   "metadata": {
    "papermill": {
     "duration": 0.013222,
     "end_time": "2022-06-10T15:15:43.548251",
     "exception": false,
     "start_time": "2022-06-10T15:15:43.535029",
     "status": "completed"
    },
    "tags": []
   },
   "source": [
    "So, let´s repeat some steps made before"
   ]
  },
  {
   "cell_type": "code",
   "execution_count": 10,
   "id": "e756067f",
   "metadata": {
    "execution": {
     "iopub.execute_input": "2022-06-10T15:15:43.575892Z",
     "iopub.status.busy": "2022-06-10T15:15:43.575100Z",
     "iopub.status.idle": "2022-06-10T15:15:43.597559Z",
     "shell.execute_reply": "2022-06-10T15:15:43.596555Z"
    },
    "papermill": {
     "duration": 0.038674,
     "end_time": "2022-06-10T15:15:43.599641",
     "exception": false,
     "start_time": "2022-06-10T15:15:43.560967",
     "status": "completed"
    },
    "tags": []
   },
   "outputs": [
    {
     "data": {
      "text/plain": [
       "84     61\n",
       "52     61\n",
       "179    61\n",
       "149    61\n",
       "27     61\n",
       "208    61\n",
       "225    61\n",
       "96     28\n",
       "146    24\n",
       "127    19\n",
       "dtype: int64"
      ]
     },
     "execution_count": 10,
     "metadata": {},
     "output_type": "execute_result"
    }
   ],
   "source": [
    "df[(df == 0)].transpose().count().sort_values(ascending = False).head(10)"
   ]
  },
  {
   "cell_type": "markdown",
   "id": "745841dc",
   "metadata": {
    "papermill": {
     "duration": 0.012325,
     "end_time": "2022-06-10T15:15:43.624979",
     "exception": false,
     "start_time": "2022-06-10T15:15:43.612654",
     "status": "completed"
    },
    "tags": []
   },
   "source": [
    "Let´s see who they are:"
   ]
  },
  {
   "cell_type": "code",
   "execution_count": 11,
   "id": "90e54093",
   "metadata": {
    "execution": {
     "iopub.execute_input": "2022-06-10T15:15:43.652153Z",
     "iopub.status.busy": "2022-06-10T15:15:43.651286Z",
     "iopub.status.idle": "2022-06-10T15:15:43.659862Z",
     "shell.execute_reply": "2022-06-10T15:15:43.659130Z"
    },
    "papermill": {
     "duration": 0.024089,
     "end_time": "2022-06-10T15:15:43.661692",
     "exception": false,
     "start_time": "2022-06-10T15:15:43.637603",
     "status": "completed"
    },
    "tags": []
   },
   "outputs": [
    {
     "data": {
      "text/plain": [
       "84                     Gibraltar\n",
       "52                Cayman Islands\n",
       "179                        Nauru\n",
       "149                       Monaco\n",
       "27                       Bermuda\n",
       "208                    Singapore\n",
       "225    Sint Maarten (Dutch part)\n",
       "96          Hong Kong SAR, China\n",
       "146             Macao SAR, China\n",
       "127                       Kuwait\n",
       "Name: Country Name, dtype: object"
      ]
     },
     "execution_count": 11,
     "metadata": {},
     "output_type": "execute_result"
    }
   ],
   "source": [
    "df.iloc[[84,52,179,149,27,208,225,96,146,127]]['Country Name']"
   ]
  },
  {
   "cell_type": "markdown",
   "id": "350b0937",
   "metadata": {
    "papermill": {
     "duration": 0.012376,
     "end_time": "2022-06-10T15:15:43.686775",
     "exception": false,
     "start_time": "2022-06-10T15:15:43.674399",
     "status": "completed"
    },
    "tags": []
   },
   "source": [
    "So, to recap, we need to drop the countries to which we have null values (execpt for Eritrea and Kuwait because they have a few null values) and zero values."
   ]
  },
  {
   "cell_type": "code",
   "execution_count": 12,
   "id": "12656364",
   "metadata": {
    "execution": {
     "iopub.execute_input": "2022-06-10T15:15:43.714146Z",
     "iopub.status.busy": "2022-06-10T15:15:43.713484Z",
     "iopub.status.idle": "2022-06-10T15:15:43.719488Z",
     "shell.execute_reply": "2022-06-10T15:15:43.718835Z"
    },
    "papermill": {
     "duration": 0.0219,
     "end_time": "2022-06-10T15:15:43.721398",
     "exception": false,
     "start_time": "2022-06-10T15:15:43.699498",
     "status": "completed"
    },
    "tags": []
   },
   "outputs": [],
   "source": [
    "df = df.drop([84, 52, 179, 149, 27, 208, 225, 96, 146, 127, 261, 147, 110, 196], axis = 0)"
   ]
  },
  {
   "cell_type": "markdown",
   "id": "ec7f2507",
   "metadata": {
    "papermill": {
     "duration": 0.012506,
     "end_time": "2022-06-10T15:15:43.746665",
     "exception": false,
     "start_time": "2022-06-10T15:15:43.734159",
     "status": "completed"
    },
    "tags": []
   },
   "source": [
    "So, now that we have our dataset completed, it´s a good idea to shape it and make the years as datetime.\n",
    "\n",
    "1. Set Country Name and Country Code as index and then transpose the matrix\n",
    "2. Convert to datetime the index"
   ]
  },
  {
   "cell_type": "code",
   "execution_count": 13,
   "id": "927c09ec",
   "metadata": {
    "execution": {
     "iopub.execute_input": "2022-06-10T15:15:43.773616Z",
     "iopub.status.busy": "2022-06-10T15:15:43.773203Z",
     "iopub.status.idle": "2022-06-10T15:15:43.819846Z",
     "shell.execute_reply": "2022-06-10T15:15:43.818736Z"
    },
    "papermill": {
     "duration": 0.06241,
     "end_time": "2022-06-10T15:15:43.821881",
     "exception": false,
     "start_time": "2022-06-10T15:15:43.759471",
     "status": "completed"
    },
    "tags": []
   },
   "outputs": [
    {
     "data": {
      "text/html": [
       "<div>\n",
       "<style scoped>\n",
       "    .dataframe tbody tr th:only-of-type {\n",
       "        vertical-align: middle;\n",
       "    }\n",
       "\n",
       "    .dataframe tbody tr th {\n",
       "        vertical-align: top;\n",
       "    }\n",
       "\n",
       "    .dataframe thead th {\n",
       "        text-align: right;\n",
       "    }\n",
       "</style>\n",
       "<table border=\"1\" class=\"dataframe\">\n",
       "  <thead>\n",
       "    <tr style=\"text-align: right;\">\n",
       "      <th>Country Name</th>\n",
       "      <th>Aruba</th>\n",
       "      <th>Africa Eastern and Southern</th>\n",
       "      <th>Afghanistan</th>\n",
       "      <th>Africa Western and Central</th>\n",
       "      <th>Angola</th>\n",
       "      <th>Albania</th>\n",
       "      <th>Andorra</th>\n",
       "      <th>Arab World</th>\n",
       "      <th>United Arab Emirates</th>\n",
       "      <th>Argentina</th>\n",
       "      <th>...</th>\n",
       "      <th>British Virgin Islands</th>\n",
       "      <th>Virgin Islands (U.S.)</th>\n",
       "      <th>Vietnam</th>\n",
       "      <th>Vanuatu</th>\n",
       "      <th>World</th>\n",
       "      <th>Samoa</th>\n",
       "      <th>Yemen, Rep.</th>\n",
       "      <th>South Africa</th>\n",
       "      <th>Zambia</th>\n",
       "      <th>Zimbabwe</th>\n",
       "    </tr>\n",
       "  </thead>\n",
       "  <tbody>\n",
       "    <tr>\n",
       "      <th>1960-01-01</th>\n",
       "      <td>26683.0</td>\n",
       "      <td>111597625.0</td>\n",
       "      <td>8241132.0</td>\n",
       "      <td>82254748.0</td>\n",
       "      <td>4885715.0</td>\n",
       "      <td>1114818.0</td>\n",
       "      <td>5572.0</td>\n",
       "      <td>63400548.0</td>\n",
       "      <td>24491.0</td>\n",
       "      <td>5404937.0</td>\n",
       "      <td>...</td>\n",
       "      <td>7068.0</td>\n",
       "      <td>14145.0</td>\n",
       "      <td>27867551.0</td>\n",
       "      <td>57063.0</td>\n",
       "      <td>2012175449.0</td>\n",
       "      <td>88068.0</td>\n",
       "      <td>4831654.0</td>\n",
       "      <td>9128063.0</td>\n",
       "      <td>2513587.0</td>\n",
       "      <td>3300515.0</td>\n",
       "    </tr>\n",
       "    <tr>\n",
       "      <th>1961-01-01</th>\n",
       "      <td>27295.0</td>\n",
       "      <td>114110332.0</td>\n",
       "      <td>8373135.0</td>\n",
       "      <td>83593412.0</td>\n",
       "      <td>4934165.0</td>\n",
       "      <td>1146208.0</td>\n",
       "      <td>5610.0</td>\n",
       "      <td>64431702.0</td>\n",
       "      <td>25822.0</td>\n",
       "      <td>5367317.0</td>\n",
       "      <td>...</td>\n",
       "      <td>7134.0</td>\n",
       "      <td>14453.0</td>\n",
       "      <td>28605758.0</td>\n",
       "      <td>58747.0</td>\n",
       "      <td>2023066947.0</td>\n",
       "      <td>90826.0</td>\n",
       "      <td>4882907.0</td>\n",
       "      <td>9324278.0</td>\n",
       "      <td>2564658.0</td>\n",
       "      <td>3404373.0</td>\n",
       "    </tr>\n",
       "    <tr>\n",
       "      <th>1962-01-01</th>\n",
       "      <td>27697.0</td>\n",
       "      <td>116717022.0</td>\n",
       "      <td>8512057.0</td>\n",
       "      <td>84979354.0</td>\n",
       "      <td>4980123.0</td>\n",
       "      <td>1180553.0</td>\n",
       "      <td>5619.0</td>\n",
       "      <td>65477732.0</td>\n",
       "      <td>27750.0</td>\n",
       "      <td>5337547.0</td>\n",
       "      <td>...</td>\n",
       "      <td>7236.0</td>\n",
       "      <td>14266.0</td>\n",
       "      <td>29352917.0</td>\n",
       "      <td>60495.0</td>\n",
       "      <td>2044148623.0</td>\n",
       "      <td>93701.0</td>\n",
       "      <td>4935554.0</td>\n",
       "      <td>9538726.0</td>\n",
       "      <td>2615526.0</td>\n",
       "      <td>3510800.0</td>\n",
       "    </tr>\n",
       "    <tr>\n",
       "      <th>1963-01-01</th>\n",
       "      <td>27936.0</td>\n",
       "      <td>119394205.0</td>\n",
       "      <td>8657973.0</td>\n",
       "      <td>86400362.0</td>\n",
       "      <td>5019234.0</td>\n",
       "      <td>1214693.0</td>\n",
       "      <td>5599.0</td>\n",
       "      <td>66521137.0</td>\n",
       "      <td>29915.0</td>\n",
       "      <td>5305828.0</td>\n",
       "      <td>...</td>\n",
       "      <td>7332.0</td>\n",
       "      <td>15680.0</td>\n",
       "      <td>30107982.0</td>\n",
       "      <td>62285.0</td>\n",
       "      <td>2074403280.0</td>\n",
       "      <td>96669.0</td>\n",
       "      <td>4989088.0</td>\n",
       "      <td>9760589.0</td>\n",
       "      <td>2664155.0</td>\n",
       "      <td>3611339.0</td>\n",
       "    </tr>\n",
       "    <tr>\n",
       "      <th>1964-01-01</th>\n",
       "      <td>28107.0</td>\n",
       "      <td>122140071.0</td>\n",
       "      <td>8810638.0</td>\n",
       "      <td>87851320.0</td>\n",
       "      <td>5043469.0</td>\n",
       "      <td>1248887.0</td>\n",
       "      <td>5553.0</td>\n",
       "      <td>67557440.0</td>\n",
       "      <td>31863.0</td>\n",
       "      <td>5271909.0</td>\n",
       "      <td>...</td>\n",
       "      <td>7446.0</td>\n",
       "      <td>15524.0</td>\n",
       "      <td>30871662.0</td>\n",
       "      <td>64084.0</td>\n",
       "      <td>2104220646.0</td>\n",
       "      <td>99638.0</td>\n",
       "      <td>5042799.0</td>\n",
       "      <td>9989720.0</td>\n",
       "      <td>2700785.0</td>\n",
       "      <td>3713677.0</td>\n",
       "    </tr>\n",
       "  </tbody>\n",
       "</table>\n",
       "<p>5 rows × 252 columns</p>\n",
       "</div>"
      ],
      "text/plain": [
       "Country Name    Aruba Africa Eastern and Southern Afghanistan  \\\n",
       "1960-01-01    26683.0                 111597625.0   8241132.0   \n",
       "1961-01-01    27295.0                 114110332.0   8373135.0   \n",
       "1962-01-01    27697.0                 116717022.0   8512057.0   \n",
       "1963-01-01    27936.0                 119394205.0   8657973.0   \n",
       "1964-01-01    28107.0                 122140071.0   8810638.0   \n",
       "\n",
       "Country Name Africa Western and Central     Angola    Albania Andorra  \\\n",
       "1960-01-01                   82254748.0  4885715.0  1114818.0  5572.0   \n",
       "1961-01-01                   83593412.0  4934165.0  1146208.0  5610.0   \n",
       "1962-01-01                   84979354.0  4980123.0  1180553.0  5619.0   \n",
       "1963-01-01                   86400362.0  5019234.0  1214693.0  5599.0   \n",
       "1964-01-01                   87851320.0  5043469.0  1248887.0  5553.0   \n",
       "\n",
       "Country Name  Arab World United Arab Emirates  Argentina  ...  \\\n",
       "1960-01-01    63400548.0              24491.0  5404937.0  ...   \n",
       "1961-01-01    64431702.0              25822.0  5367317.0  ...   \n",
       "1962-01-01    65477732.0              27750.0  5337547.0  ...   \n",
       "1963-01-01    66521137.0              29915.0  5305828.0  ...   \n",
       "1964-01-01    67557440.0              31863.0  5271909.0  ...   \n",
       "\n",
       "Country Name British Virgin Islands Virgin Islands (U.S.)     Vietnam  \\\n",
       "1960-01-01                   7068.0               14145.0  27867551.0   \n",
       "1961-01-01                   7134.0               14453.0  28605758.0   \n",
       "1962-01-01                   7236.0               14266.0  29352917.0   \n",
       "1963-01-01                   7332.0               15680.0  30107982.0   \n",
       "1964-01-01                   7446.0               15524.0  30871662.0   \n",
       "\n",
       "Country Name  Vanuatu         World    Samoa Yemen, Rep. South Africa  \\\n",
       "1960-01-01    57063.0  2012175449.0  88068.0   4831654.0    9128063.0   \n",
       "1961-01-01    58747.0  2023066947.0  90826.0   4882907.0    9324278.0   \n",
       "1962-01-01    60495.0  2044148623.0  93701.0   4935554.0    9538726.0   \n",
       "1963-01-01    62285.0  2074403280.0  96669.0   4989088.0    9760589.0   \n",
       "1964-01-01    64084.0  2104220646.0  99638.0   5042799.0    9989720.0   \n",
       "\n",
       "Country Name     Zambia   Zimbabwe  \n",
       "1960-01-01    2513587.0  3300515.0  \n",
       "1961-01-01    2564658.0  3404373.0  \n",
       "1962-01-01    2615526.0  3510800.0  \n",
       "1963-01-01    2664155.0  3611339.0  \n",
       "1964-01-01    2700785.0  3713677.0  \n",
       "\n",
       "[5 rows x 252 columns]"
      ]
     },
     "execution_count": 13,
     "metadata": {},
     "output_type": "execute_result"
    }
   ],
   "source": [
    "df = df.set_index(['Country Name']).transpose()\n",
    "df = df.transpose().drop(['Country Code'],axis = 1).transpose()\n",
    "df.index = pd.to_datetime(df.index)\n",
    "df.head()"
   ]
  },
  {
   "cell_type": "code",
   "execution_count": 14,
   "id": "9cbdb0fd",
   "metadata": {
    "execution": {
     "iopub.execute_input": "2022-06-10T15:15:43.849739Z",
     "iopub.status.busy": "2022-06-10T15:15:43.849377Z",
     "iopub.status.idle": "2022-06-10T15:15:44.163055Z",
     "shell.execute_reply": "2022-06-10T15:15:44.161994Z"
    },
    "papermill": {
     "duration": 0.331353,
     "end_time": "2022-06-10T15:15:44.166374",
     "exception": false,
     "start_time": "2022-06-10T15:15:43.835021",
     "status": "completed"
    },
    "tags": []
   },
   "outputs": [
    {
     "name": "stderr",
     "output_type": "stream",
     "text": [
      "/opt/conda/lib/python3.7/site-packages/ipykernel_launcher.py:4: PerformanceWarning: DataFrame is highly fragmented.  This is usually the result of calling `frame.insert` many times, which has poor performance.  Consider joining all columns at once using pd.concat(axis=1) instead.  To get a de-fragmented frame, use `newframe = frame.copy()`\n",
      "  after removing the cwd from sys.path.\n"
     ]
    }
   ],
   "source": [
    "tickers = df.columns\n",
    "pct_growth_population = pd.DataFrame()\n",
    "for tick in tickers:\n",
    "    pct_growth_population[tick+' % change'] = df[tick].pct_change()"
   ]
  },
  {
   "cell_type": "code",
   "execution_count": 15,
   "id": "557bf38c",
   "metadata": {
    "execution": {
     "iopub.execute_input": "2022-06-10T15:15:44.196253Z",
     "iopub.status.busy": "2022-06-10T15:15:44.195870Z",
     "iopub.status.idle": "2022-06-10T15:15:44.690928Z",
     "shell.execute_reply": "2022-06-10T15:15:44.689861Z"
    },
    "papermill": {
     "duration": 0.512611,
     "end_time": "2022-06-10T15:15:44.693691",
     "exception": false,
     "start_time": "2022-06-10T15:15:44.181080",
     "status": "completed"
    },
    "tags": []
   },
   "outputs": [
    {
     "name": "stderr",
     "output_type": "stream",
     "text": [
      "/opt/conda/lib/python3.7/site-packages/seaborn/distributions.py:2619: FutureWarning: `distplot` is a deprecated function and will be removed in a future version. Please adapt your code to use either `displot` (a figure-level function with similar flexibility) or `histplot` (an axes-level function for histograms).\n",
      "  warnings.warn(msg, FutureWarning)\n"
     ]
    },
    {
     "data": {
      "text/plain": [
       "<AxesSubplot:ylabel='Density'>"
      ]
     },
     "execution_count": 15,
     "metadata": {},
     "output_type": "execute_result"
    },
    {
     "data": {
      "image/png": "[encoded data removed]",
      "text/plain": [
       "<Figure size 1440x432 with 1 Axes>"
      ]
     },
     "metadata": {},
     "output_type": "display_data"
    }
   ],
   "source": [
    "sns.set(rc={'figure.figsize':(20,6)})\n",
    "sns.distplot(pct_growth_population)"
   ]
  },
  {
   "cell_type": "markdown",
   "id": "8feb1a4e",
   "metadata": {
    "papermill": {
     "duration": 0.01479,
     "end_time": "2022-06-10T15:15:44.723476",
     "exception": false,
     "start_time": "2022-06-10T15:15:44.708686",
     "status": "completed"
    },
    "tags": []
   },
   "source": [
    "As we can see in the distribution graph, the curve is slightly shifted to the right (positive growth)\n",
    "\n",
    "Then looking at the boxplot of the values, we can see a very notorious outlier (above 0.3%):"
   ]
  },
  {
   "cell_type": "code",
   "execution_count": 16,
   "id": "a6e6595f",
   "metadata": {
    "execution": {
     "iopub.execute_input": "2022-06-10T15:15:44.754195Z",
     "iopub.status.busy": "2022-06-10T15:15:44.753297Z",
     "iopub.status.idle": "2022-06-10T15:15:44.921866Z",
     "shell.execute_reply": "2022-06-10T15:15:44.920845Z"
    },
    "papermill": {
     "duration": 0.186499,
     "end_time": "2022-06-10T15:15:44.924305",
     "exception": false,
     "start_time": "2022-06-10T15:15:44.737806",
     "status": "completed"
    },
    "tags": []
   },
   "outputs": [
    {
     "data": {
      "text/plain": [
       "<AxesSubplot:>"
      ]
     },
     "execution_count": 16,
     "metadata": {},
     "output_type": "execute_result"
    },
    {
     "data": {
      "image/png": "[encoded data removed]",
      "text/plain": [
       "<Figure size 1440x432 with 1 Axes>"
      ]
     },
     "metadata": {},
     "output_type": "display_data"
    }
   ],
   "source": [
    "sns.boxenplot(x=pct_growth_population.values)"
   ]
  },
  {
   "cell_type": "markdown",
   "id": "ca4cd834",
   "metadata": {
    "papermill": {
     "duration": 0.014728,
     "end_time": "2022-06-10T15:15:44.953394",
     "exception": false,
     "start_time": "2022-06-10T15:15:44.938666",
     "status": "completed"
    },
    "tags": []
   },
   "source": [
    "Let´s finde it"
   ]
  },
  {
   "cell_type": "code",
   "execution_count": 17,
   "id": "f9d4eacc",
   "metadata": {
    "execution": {
     "iopub.execute_input": "2022-06-10T15:15:44.984662Z",
     "iopub.status.busy": "2022-06-10T15:15:44.984262Z",
     "iopub.status.idle": "2022-06-10T15:15:44.993838Z",
     "shell.execute_reply": "2022-06-10T15:15:44.993155Z"
    },
    "papermill": {
     "duration": 0.027843,
     "end_time": "2022-06-10T15:15:44.995590",
     "exception": false,
     "start_time": "2022-06-10T15:15:44.967747",
     "status": "completed"
    },
    "tags": []
   },
   "outputs": [
    {
     "data": {
      "text/plain": [
       "Cambodia % change                     0.344851\n",
       "United Arab Emirates % change         0.192835\n",
       "Somalia % change                      0.118469\n",
       "Liberia % change                      0.115227\n",
       "Qatar % change                        0.102023\n",
       "                                        ...   \n",
       "Post-demographic dividend % change   -0.001981\n",
       "Argentina % change                   -0.003272\n",
       "Belgium % change                     -0.007174\n",
       "Belarus % change                     -0.007573\n",
       "Bulgaria % change                    -0.008456\n",
       "Length: 252, dtype: float64"
      ]
     },
     "execution_count": 17,
     "metadata": {},
     "output_type": "execute_result"
    }
   ],
   "source": [
    "pct_growth_population.max().sort_values(ascending = False)"
   ]
  },
  {
   "cell_type": "markdown",
   "id": "e1eb2b25",
   "metadata": {
    "papermill": {
     "duration": 0.014562,
     "end_time": "2022-06-10T15:15:45.024663",
     "exception": false,
     "start_time": "2022-06-10T15:15:45.010101",
     "status": "completed"
    },
    "tags": []
   },
   "source": [
    "We´ve got it: Cambodia. Now let´s see when it happend such a big growth of its population"
   ]
  },
  {
   "cell_type": "code",
   "execution_count": 18,
   "id": "2ffe2c32",
   "metadata": {
    "execution": {
     "iopub.execute_input": "2022-06-10T15:15:45.058199Z",
     "iopub.status.busy": "2022-06-10T15:15:45.057574Z",
     "iopub.status.idle": "2022-06-10T15:15:45.070142Z",
     "shell.execute_reply": "2022-06-10T15:15:45.069295Z"
    },
    "papermill": {
     "duration": 0.031751,
     "end_time": "2022-06-10T15:15:45.072086",
     "exception": false,
     "start_time": "2022-06-10T15:15:45.040335",
     "status": "completed"
    },
    "tags": []
   },
   "outputs": [
    {
     "data": {
      "text/plain": [
       "Timestamp('1975-01-01 00:00:00')"
      ]
     },
     "execution_count": 18,
     "metadata": {},
     "output_type": "execute_result"
    }
   ],
   "source": [
    "pct_growth_population.idxmax().loc['Cambodia % change']"
   ]
  },
  {
   "cell_type": "markdown",
   "id": "edd84d86",
   "metadata": {
    "papermill": {
     "duration": 0.014321,
     "end_time": "2022-06-10T15:15:45.101515",
     "exception": false,
     "start_time": "2022-06-10T15:15:45.087194",
     "status": "completed"
    },
    "tags": []
   },
   "source": [
    "Yeah! In 1975"
   ]
  },
  {
   "cell_type": "code",
   "execution_count": 19,
   "id": "d41b06c0",
   "metadata": {
    "execution": {
     "iopub.execute_input": "2022-06-10T15:15:45.132066Z",
     "iopub.status.busy": "2022-06-10T15:15:45.131465Z",
     "iopub.status.idle": "2022-06-10T15:15:45.294107Z",
     "shell.execute_reply": "2022-06-10T15:15:45.292985Z"
    },
    "papermill": {
     "duration": 0.180533,
     "end_time": "2022-06-10T15:15:45.296375",
     "exception": false,
     "start_time": "2022-06-10T15:15:45.115842",
     "status": "completed"
    },
    "tags": []
   },
   "outputs": [
    {
     "data": {
      "text/plain": [
       "<AxesSubplot:>"
      ]
     },
     "execution_count": 19,
     "metadata": {},
     "output_type": "execute_result"
    },
    {
     "data": {
      "image/png": "[encoded data removed]",
      "text/plain": [
       "<Figure size 1440x432 with 1 Axes>"
      ]
     },
     "metadata": {},
     "output_type": "display_data"
    }
   ],
   "source": [
    "sns.barplot(x = df.loc['1974-01-01':'1976-01-01','Cambodia'].index,y = df.loc['1974-01-01':'1976-01-01','Cambodia'].values)"
   ]
  },
  {
   "cell_type": "markdown",
   "id": "bd5c6fca",
   "metadata": {
    "papermill": {
     "duration": 0.015395,
     "end_time": "2022-06-10T15:15:45.326754",
     "exception": false,
     "start_time": "2022-06-10T15:15:45.311359",
     "status": "completed"
    },
    "tags": []
   },
   "source": [
    "This is curious because, according to Wikipedia (https://es.wikipedia.org/wiki/Genocidio_camboyano#A%C3%B1o_Cero) in 1975 started the Cambodian genocide that lasts 5 years. This may be explained because the people left the city to radicate in the villages"
   ]
  },
  {
   "cell_type": "markdown",
   "id": "8454b63e",
   "metadata": {
    "papermill": {
     "duration": 0.014997,
     "end_time": "2022-06-10T15:15:45.357164",
     "exception": false,
     "start_time": "2022-06-10T15:15:45.342167",
     "status": "completed"
    },
    "tags": []
   },
   "source": [
    "The same way, let´s look at the opposite outlier. Turns to be Guam"
   ]
  },
  {
   "cell_type": "code",
   "execution_count": 20,
   "id": "d3584dd6",
   "metadata": {
    "execution": {
     "iopub.execute_input": "2022-06-10T15:15:45.390254Z",
     "iopub.status.busy": "2022-06-10T15:15:45.389168Z",
     "iopub.status.idle": "2022-06-10T15:15:45.400484Z",
     "shell.execute_reply": "2022-06-10T15:15:45.399504Z"
    },
    "papermill": {
     "duration": 0.030266,
     "end_time": "2022-06-10T15:15:45.402580",
     "exception": false,
     "start_time": "2022-06-10T15:15:45.372314",
     "status": "completed"
    },
    "tags": []
   },
   "outputs": [
    {
     "data": {
      "text/plain": [
       "Guam % change                                     -0.171873\n",
       "Puerto Rico % change                              -0.148963\n",
       "Curacao % change                                  -0.094242\n",
       "Japan % change                                    -0.087024\n",
       "San Marino % change                               -0.085072\n",
       "                                                     ...   \n",
       "Low income % change                                0.018225\n",
       "Tanzania % change                                  0.018373\n",
       "Heavily indebted poor countries (HIPC) % change    0.019367\n",
       "Niger % change                                     0.021919\n",
       "Uganda % change                                    0.024719\n",
       "Length: 252, dtype: float64"
      ]
     },
     "execution_count": 20,
     "metadata": {},
     "output_type": "execute_result"
    }
   ],
   "source": [
    "pct_growth_population.min().sort_values(ascending = True)"
   ]
  },
  {
   "cell_type": "code",
   "execution_count": 21,
   "id": "9a237f25",
   "metadata": {
    "execution": {
     "iopub.execute_input": "2022-06-10T15:15:45.434721Z",
     "iopub.status.busy": "2022-06-10T15:15:45.434328Z",
     "iopub.status.idle": "2022-06-10T15:15:45.447141Z",
     "shell.execute_reply": "2022-06-10T15:15:45.446317Z"
    },
    "papermill": {
     "duration": 0.031548,
     "end_time": "2022-06-10T15:15:45.449274",
     "exception": false,
     "start_time": "2022-06-10T15:15:45.417726",
     "status": "completed"
    },
    "tags": []
   },
   "outputs": [
    {
     "data": {
      "text/plain": [
       "Timestamp('1979-01-01 00:00:00')"
      ]
     },
     "execution_count": 21,
     "metadata": {},
     "output_type": "execute_result"
    }
   ],
   "source": [
    "pct_growth_population.idxmin()['Guam % change']"
   ]
  },
  {
   "cell_type": "code",
   "execution_count": 22,
   "id": "43d212ad",
   "metadata": {
    "execution": {
     "iopub.execute_input": "2022-06-10T15:15:45.483120Z",
     "iopub.status.busy": "2022-06-10T15:15:45.482444Z",
     "iopub.status.idle": "2022-06-10T15:15:45.629261Z",
     "shell.execute_reply": "2022-06-10T15:15:45.628072Z"
    },
    "papermill": {
     "duration": 0.166542,
     "end_time": "2022-06-10T15:15:45.631607",
     "exception": false,
     "start_time": "2022-06-10T15:15:45.465065",
     "status": "completed"
    },
    "tags": []
   },
   "outputs": [
    {
     "data": {
      "text/plain": [
       "<AxesSubplot:>"
      ]
     },
     "execution_count": 22,
     "metadata": {},
     "output_type": "execute_result"
    },
    {
     "data": {
      "image/png": "[encoded data removed]",
      "text/plain": [
       "<Figure size 1440x432 with 1 Axes>"
      ]
     },
     "metadata": {},
     "output_type": "display_data"
    }
   ],
   "source": [
    "sns.barplot(x = df.loc['1978-01-01':'1980-01-01','Guam'].index,y = df.loc['1978-01-01':'1980-01-01','Guam'].values)"
   ]
  },
  {
   "cell_type": "markdown",
   "id": "9f98a8e9",
   "metadata": {
    "papermill": {
     "duration": 0.015601,
     "end_time": "2022-06-10T15:15:45.663651",
     "exception": false,
     "start_time": "2022-06-10T15:15:45.648050",
     "status": "completed"
    },
    "tags": []
   },
   "source": [
    "Now let's see from the beginning of the data set to the end, which are the countries whose rural population has grown the most and which have decreased."
   ]
  },
  {
   "cell_type": "code",
   "execution_count": 23,
   "id": "25b6166a",
   "metadata": {
    "execution": {
     "iopub.execute_input": "2022-06-10T15:15:45.697331Z",
     "iopub.status.busy": "2022-06-10T15:15:45.696893Z",
     "iopub.status.idle": "2022-06-10T15:15:45.929875Z",
     "shell.execute_reply": "2022-06-10T15:15:45.928377Z"
    },
    "papermill": {
     "duration": 0.253446,
     "end_time": "2022-06-10T15:15:45.933058",
     "exception": false,
     "start_time": "2022-06-10T15:15:45.679612",
     "status": "completed"
    },
    "tags": []
   },
   "outputs": [
    {
     "name": "stderr",
     "output_type": "stream",
     "text": [
      "/opt/conda/lib/python3.7/site-packages/ipykernel_launcher.py:4: PerformanceWarning: DataFrame is highly fragmented.  This is usually the result of calling `frame.insert` many times, which has poor performance.  Consider joining all columns at once using pd.concat(axis=1) instead.  To get a de-fragmented frame, use `newframe = frame.copy()`\n",
      "  after removing the cwd from sys.path.\n"
     ]
    }
   ],
   "source": [
    "tickers_change = pct_growth_population.columns\n",
    "cummulative_change = pd.DataFrame()\n",
    "for ticker in tickers_change:\n",
    "    cummulative_change[ticker] = (1+pct_growth_population[ticker]).cumprod()"
   ]
  },
  {
   "cell_type": "code",
   "execution_count": 24,
   "id": "0a40459f",
   "metadata": {
    "execution": {
     "iopub.execute_input": "2022-06-10T15:15:45.968797Z",
     "iopub.status.busy": "2022-06-10T15:15:45.967801Z",
     "iopub.status.idle": "2022-06-10T15:15:46.018053Z",
     "shell.execute_reply": "2022-06-10T15:15:46.017089Z"
    },
    "papermill": {
     "duration": 0.07063,
     "end_time": "2022-06-10T15:15:46.020277",
     "exception": false,
     "start_time": "2022-06-10T15:15:45.949647",
     "status": "completed"
    },
    "tags": []
   },
   "outputs": [
    {
     "data": {
      "text/html": [
       "<div>\n",
       "<style scoped>\n",
       "    .dataframe tbody tr th:only-of-type {\n",
       "        vertical-align: middle;\n",
       "    }\n",
       "\n",
       "    .dataframe tbody tr th {\n",
       "        vertical-align: top;\n",
       "    }\n",
       "\n",
       "    .dataframe thead th {\n",
       "        text-align: right;\n",
       "    }\n",
       "</style>\n",
       "<table border=\"1\" class=\"dataframe\">\n",
       "  <thead>\n",
       "    <tr style=\"text-align: right;\">\n",
       "      <th></th>\n",
       "      <th>Aruba % change</th>\n",
       "      <th>Africa Eastern and Southern % change</th>\n",
       "      <th>Afghanistan % change</th>\n",
       "      <th>Africa Western and Central % change</th>\n",
       "      <th>Angola % change</th>\n",
       "      <th>Albania % change</th>\n",
       "      <th>Andorra % change</th>\n",
       "      <th>Arab World % change</th>\n",
       "      <th>United Arab Emirates % change</th>\n",
       "      <th>Argentina % change</th>\n",
       "      <th>...</th>\n",
       "      <th>British Virgin Islands % change</th>\n",
       "      <th>Virgin Islands (U.S.) % change</th>\n",
       "      <th>Vietnam % change</th>\n",
       "      <th>Vanuatu % change</th>\n",
       "      <th>World % change</th>\n",
       "      <th>Samoa % change</th>\n",
       "      <th>Yemen, Rep. % change</th>\n",
       "      <th>South Africa % change</th>\n",
       "      <th>Zambia % change</th>\n",
       "      <th>Zimbabwe % change</th>\n",
       "    </tr>\n",
       "  </thead>\n",
       "  <tbody>\n",
       "    <tr>\n",
       "      <th>2020-01-01</th>\n",
       "      <td>0.229884</td>\n",
       "      <td>1.813864</td>\n",
       "      <td>1.478266</td>\n",
       "      <td>0.892643</td>\n",
       "      <td>0.22177</td>\n",
       "      <td>-1.063691</td>\n",
       "      <td>-0.33112</td>\n",
       "      <td>0.771343</td>\n",
       "      <td>50.250786</td>\n",
       "      <td>-1.330724</td>\n",
       "      <td>...</td>\n",
       "      <td>0.193265</td>\n",
       "      <td>-1.716649</td>\n",
       "      <td>0.162162</td>\n",
       "      <td>1.979216</td>\n",
       "      <td>-0.314479</td>\n",
       "      <td>-0.181428</td>\n",
       "      <td>1.822353</td>\n",
       "      <td>0.099646</td>\n",
       "      <td>2.029424</td>\n",
       "      <td>1.019821</td>\n",
       "    </tr>\n",
       "  </tbody>\n",
       "</table>\n",
       "<p>1 rows × 252 columns</p>\n",
       "</div>"
      ],
      "text/plain": [
       "            Aruba % change  Africa Eastern and Southern % change  \\\n",
       "2020-01-01        0.229884                              1.813864   \n",
       "\n",
       "            Afghanistan % change  Africa Western and Central % change  \\\n",
       "2020-01-01              1.478266                             0.892643   \n",
       "\n",
       "            Angola % change  Albania % change  Andorra % change  \\\n",
       "2020-01-01          0.22177         -1.063691          -0.33112   \n",
       "\n",
       "            Arab World % change  United Arab Emirates % change  \\\n",
       "2020-01-01             0.771343                      50.250786   \n",
       "\n",
       "            Argentina % change  ...  British Virgin Islands % change  \\\n",
       "2020-01-01           -1.330724  ...                         0.193265   \n",
       "\n",
       "            Virgin Islands (U.S.) % change  Vietnam % change  \\\n",
       "2020-01-01                       -1.716649          0.162162   \n",
       "\n",
       "            Vanuatu % change  World % change  Samoa % change  \\\n",
       "2020-01-01          1.979216       -0.314479       -0.181428   \n",
       "\n",
       "            Yemen, Rep. % change  South Africa % change  Zambia % change  \\\n",
       "2020-01-01              1.822353               0.099646         2.029424   \n",
       "\n",
       "            Zimbabwe % change  \n",
       "2020-01-01           1.019821  \n",
       "\n",
       "[1 rows x 252 columns]"
      ]
     },
     "execution_count": 24,
     "metadata": {},
     "output_type": "execute_result"
    }
   ],
   "source": [
    "overall_change = cummulative_change[-1:] - cummulative_change.iloc[1] -1\n",
    "overall_change"
   ]
  },
  {
   "cell_type": "code",
   "execution_count": 25,
   "id": "e8d2818e",
   "metadata": {
    "execution": {
     "iopub.execute_input": "2022-06-10T15:15:46.055878Z",
     "iopub.status.busy": "2022-06-10T15:15:46.055157Z",
     "iopub.status.idle": "2022-06-10T15:15:46.234950Z",
     "shell.execute_reply": "2022-06-10T15:15:46.233953Z"
    },
    "papermill": {
     "duration": 0.1999,
     "end_time": "2022-06-10T15:15:46.237067",
     "exception": false,
     "start_time": "2022-06-10T15:15:46.037167",
     "status": "completed"
    },
    "tags": []
   },
   "outputs": [
    {
     "data": {
      "text/plain": [
       "<AxesSubplot:>"
      ]
     },
     "execution_count": 25,
     "metadata": {},
     "output_type": "execute_result"
    },
    {
     "data": {
      "image/png": "[encoded data removed]",
      "text/plain": [
       "<Figure size 1440x432 with 1 Axes>"
      ]
     },
     "metadata": {},
     "output_type": "display_data"
    }
   ],
   "source": [
    "sns.barplot(x = overall_change.transpose()['2020-01-01'].sort_values(ascending = False).head(5).index, y = overall_change.transpose()['2020-01-01'].sort_values(ascending = False).head(5).values)"
   ]
  },
  {
   "cell_type": "markdown",
   "id": "66217192",
   "metadata": {
    "papermill": {
     "duration": 0.017443,
     "end_time": "2022-06-10T15:15:46.271514",
     "exception": false,
     "start_time": "2022-06-10T15:15:46.254071",
     "status": "completed"
    },
    "tags": []
   },
   "source": [
    "United Arab Emirates is the country which has growthn the most for the last 60 years."
   ]
  },
  {
   "cell_type": "code",
   "execution_count": 26,
   "id": "7423e5a0",
   "metadata": {
    "execution": {
     "iopub.execute_input": "2022-06-10T15:15:46.306414Z",
     "iopub.status.busy": "2022-06-10T15:15:46.305995Z",
     "iopub.status.idle": "2022-06-10T15:15:46.489840Z",
     "shell.execute_reply": "2022-06-10T15:15:46.488677Z"
    },
    "papermill": {
     "duration": 0.204417,
     "end_time": "2022-06-10T15:15:46.492784",
     "exception": false,
     "start_time": "2022-06-10T15:15:46.288367",
     "status": "completed"
    },
    "tags": []
   },
   "outputs": [
    {
     "data": {
      "text/plain": [
       "<AxesSubplot:>"
      ]
     },
     "execution_count": 26,
     "metadata": {},
     "output_type": "execute_result"
    },
    {
     "data": {
      "image/png": "[encoded data removed]",
      "text/plain": [
       "<Figure size 1440x432 with 1 Axes>"
      ]
     },
     "metadata": {},
     "output_type": "display_data"
    }
   ],
   "source": [
    "sns.barplot(x = overall_change.transpose()['2020-01-01'].sort_values(ascending = True).head(5).index, y = overall_change.transpose()['2020-01-01'].sort_values(ascending = True).head(5).values)"
   ]
  },
  {
   "cell_type": "markdown",
   "id": "f4d86293",
   "metadata": {
    "papermill": {
     "duration": 0.016523,
     "end_time": "2022-06-10T15:15:46.526078",
     "exception": false,
     "start_time": "2022-06-10T15:15:46.509555",
     "status": "completed"
    },
    "tags": []
   },
   "source": [
    "San Marino is the country for which the rural population has decreased the most."
   ]
  }
 ],
 "metadata": {
  "kernelspec": {
   "display_name": "Python 3",
   "language": "python",
   "name": "python3"
  },
  "language_info": {
   "codemirror_mode": {
    "name": "ipython",
    "version": 3
   },
   "file_extension": ".py",
   "mimetype": "text/x-python",
   "name": "python",
   "nbconvert_exporter": "python",
   "pygments_lexer": "ipython3",
   "version": "3.7.12"
  },
  "papermill": {
   "default_parameters": {},
   "duration": 19.588355,
   "end_time": "2022-06-10T15:15:47.264531",
   "environment_variables": {},
   "exception": null,
   "input_path": "__notebook__.ipynb",
   "output_path": "__notebook__.ipynb",
   "parameters": {},
   "start_time": "2022-06-10T15:15:27.676176",
   "version": "2.3.4"
  }
 },
 "nbformat": 4,
 "nbformat_minor": 5
}
